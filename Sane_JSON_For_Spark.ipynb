{
 "cells": [
  {
   "cell_type": "code",
   "execution_count": 1,
   "id": "0cc725b6",
   "metadata": {},
   "outputs": [],
   "source": [
    "# Authors:\n",
    "# 202011071 Onurcan Erenel\n",
    "# 201911068 Ahmet Bugra Yaka\n",
    "\n",
    "\n",
    "import json\n",
    "\n",
    "# Load data from the original file\n",
    "with open('./steamdb.json', 'r') as f:\n",
    "    data = json.load(f)\n",
    "\n",
    "# Write data to a new file in newline-delimited format\n",
    "with open('steamgames.json', 'w') as f:\n",
    "    for item in data:\n",
    "        f.write(json.dumps(item) + '\\n')\n"
   ]
  }
 ],
 "metadata": {
  "kernelspec": {
   "display_name": "Python 3 (ipykernel)",
   "language": "python",
   "name": "python3"
  },
  "language_info": {
   "codemirror_mode": {
    "name": "ipython",
    "version": 3
   },
   "file_extension": ".py",
   "mimetype": "text/x-python",
   "name": "python",
   "nbconvert_exporter": "python",
   "pygments_lexer": "ipython3",
   "version": "3.11.3"
  }
 },
 "nbformat": 4,
 "nbformat_minor": 5
}
